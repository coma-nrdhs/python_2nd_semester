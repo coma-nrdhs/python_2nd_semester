{
  "nbformat": 4,
  "nbformat_minor": 0,
  "metadata": {
    "colab": {
      "provenance": [],
      "authorship_tag": "ABX9TyON48TKsn7HhiswRtPyQ155",
      "include_colab_link": true
    },
    "kernelspec": {
      "name": "python3",
      "display_name": "Python 3"
    },
    "language_info": {
      "name": "python"
    }
  },
  "cells": [
    {
      "cell_type": "markdown",
      "metadata": {
        "id": "view-in-github",
        "colab_type": "text"
      },
      "source": [
        "<a href=\"https://colab.research.google.com/github/coma-nrdhs/python_2nd_semester/blob/main/recursion.ipynb\" target=\"_parent\"><img src=\"https://colab.research.google.com/assets/colab-badge.svg\" alt=\"Open In Colab\"/></a>"
      ]
    },
    {
      "cell_type": "markdown",
      "source": [
        "# Recursion - A process where a function calls itself in its definition"
      ],
      "metadata": {
        "id": "eL9r9is2G_OO"
      }
    },
    {
      "cell_type": "markdown",
      "source": [
        "**recursion vs non recursion**"
      ],
      "metadata": {
        "id": "thPAqJYLlE97"
      }
    },
    {
      "cell_type": "markdown",
      "source": [
        "## n সংখ্যক স্বাভাবিক সংখ্যার যোগফল\n",
        "f(n) = 1 + 2 + 3 +   + (n-1) + n"
      ],
      "metadata": {
        "id": "y-D44OvOlgZN"
      }
    },
    {
      "cell_type": "markdown",
      "source": [
        "**non recursive process**\n",
        "\n",
        "#f(0) = 0\n",
        "\n",
        "#f(1) = f(0) + 1\n",
        "\n",
        "#f(2) = f(1) + 2\n",
        "\n",
        "#f(3) = f(2) + 3\n",
        "#. . .\n",
        "\n",
        "#. . .\n",
        "\n",
        "# f(n) = f(n-1) + n"
      ],
      "metadata": {
        "id": "SQTwQ7I1m-M-"
      }
    },
    {
      "cell_type": "code",
      "execution_count": 6,
      "metadata": {
        "id": "cO2VkYWZk1Ia"
      },
      "outputs": [],
      "source": [
        "def nSum(n):\n",
        "    sum = 0\n",
        "    i = 0\n",
        "    while i <= n:\n",
        "       sum = sum + i\n",
        "       i=i+1\n",
        "\n",
        "    return sum"
      ]
    },
    {
      "cell_type": "code",
      "source": [
        "nSum(6)"
      ],
      "metadata": {
        "colab": {
          "base_uri": "https://localhost:8080/"
        },
        "id": "xnZYvpT_6srw",
        "outputId": "381144f5-2065-4e02-9236-86a7c9d2d0d1"
      },
      "execution_count": 5,
      "outputs": [
        {
          "output_type": "execute_result",
          "data": {
            "text/plain": [
              "21"
            ]
          },
          "metadata": {},
          "execution_count": 5
        }
      ]
    },
    {
      "cell_type": "markdown",
      "source": [
        "\n",
        "\n",
        "# recursive process\n",
        "\n",
        "#f(n) = n +  f(n-1)\n",
        "\n",
        "#. . .\n",
        "\n",
        "#. . .\n",
        "\n",
        "#f(3) = 3 + f(3-1)\n",
        "\n",
        "#f(2) = 2 + f(2-1)\n",
        "\n",
        "\n",
        "\n",
        "## f(1) =  1\n",
        "\n",
        "\n"
      ],
      "metadata": {
        "id": "kjNFyAq58Ntv"
      }
    },
    {
      "cell_type": "code",
      "source": [
        "def rnSum(n):\n",
        "\n",
        "    if n > 1 :\n",
        "      return n + rnSum(n-1)\n",
        "\n",
        "    else:\n",
        "      return 1\n",
        "\n",
        "\n",
        "\n",
        ""
      ],
      "metadata": {
        "id": "HOyKNxfR-Qpu"
      },
      "execution_count": 21,
      "outputs": []
    },
    {
      "cell_type": "code",
      "source": [
        "rnSum(6)"
      ],
      "metadata": {
        "colab": {
          "base_uri": "https://localhost:8080/"
        },
        "id": "_mChkJ-1AO2c",
        "outputId": "a8f8138f-b6bc-441a-fc47-8716906b87f3"
      },
      "execution_count": 22,
      "outputs": [
        {
          "output_type": "execute_result",
          "data": {
            "text/plain": [
              "21"
            ]
          },
          "metadata": {},
          "execution_count": 22
        }
      ]
    }
  ]
}