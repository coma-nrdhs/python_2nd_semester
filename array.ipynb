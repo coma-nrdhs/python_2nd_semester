{
  "cells": [
    {
      "cell_type": "markdown",
      "metadata": {
        "id": "view-in-github",
        "colab_type": "text"
      },
      "source": [
        "<a href=\"https://colab.research.google.com/github/coma-nrdhs/python_2nd_semester/blob/main/array.ipynb\" target=\"_parent\"><img src=\"https://colab.research.google.com/assets/colab-badge.svg\" alt=\"Open In Colab\"/></a>"
      ]
    },
    {
      "cell_type": "markdown",
      "source": [
        " **Entering my data to be stored as an Array**"
      ],
      "metadata": {
        "id": "y96TS4ch57Uc"
      }
    },
    {
      "cell_type": "markdown",
      "source": [
        " *Entering the size of array*"
      ],
      "metadata": {
        "id": "D6TM0Xhr6kvG"
      }
    },
    {
      "cell_type": "code",
      "source": [
        "n = int(input(\"Enter number of Data:\"))"
      ],
      "metadata": {
        "id": "e-moM-HW52DZ"
      },
      "execution_count": null,
      "outputs": []
    },
    {
      "cell_type": "markdown",
      "source": [
        "**numpy**  module used to create array"
      ],
      "metadata": {
        "id": "tbPhCZga7XTf"
      }
    },
    {
      "cell_type": "code",
      "source": [
        "import numpy as np\n",
        "mydata = np.zeros(n)"
      ],
      "metadata": {
        "id": "CgX5lPBwoJPU"
      },
      "execution_count": null,
      "outputs": []
    },
    {
      "cell_type": "markdown",
      "source": [
        "inserting values into array"
      ],
      "metadata": {
        "id": "65oRpxgl8LI4"
      }
    },
    {
      "cell_type": "code",
      "source": [
        "i = 0\n",
        "while i < n:\n",
        "  mydata[i] = int(input(\"Enter Your Data:\"))\n",
        "  i = i + 1\n"
      ],
      "metadata": {
        "id": "G9Su4MZRr1PX",
        "outputId": "8f6aa2a2-870f-4825-c4f0-03c4683dbc78",
        "colab": {
          "base_uri": "https://localhost:8080/"
        }
      },
      "execution_count": null,
      "outputs": [
        {
          "name": "stdout",
          "output_type": "stream",
          "text": [
            "Enter Your Data:60\n",
            "Enter Your Data:40\n",
            "Enter Your Data:75\n",
            "Enter Your Data:10\n",
            "Enter Your Data:45\n",
            "Enter Your Data:75\n",
            "Enter Your Data:35\n",
            "Enter Your Data:89\n",
            "Enter Your Data:49\n",
            "Enter Your Data:11\n"
          ]
        }
      ]
    },
    {
      "cell_type": "code",
      "source": [
        "print(mydata)"
      ],
      "metadata": {
        "id": "dZLTCZa4vFNB",
        "outputId": "c66d238e-eae0-41fe-d441-1abcf4f15b61",
        "colab": {
          "base_uri": "https://localhost:8080/"
        }
      },
      "execution_count": null,
      "outputs": [
        {
          "output_type": "stream",
          "name": "stdout",
          "text": [
            "[60. 40. 75. 10. 45. 75. 35. 89. 49. 11.]\n"
          ]
        }
      ]
    },
    {
      "cell_type": "markdown",
      "source": [
        "**Linear Search**"
      ],
      "metadata": {
        "id": "pyx3bZsXxyLJ"
      }
    },
    {
      "cell_type": "code",
      "source": [
        "key=int(input(\"Enter value that will be searched: \"))"
      ],
      "metadata": {
        "id": "iEJtVyR7vRKC",
        "outputId": "6357b5d8-2233-4896-dc1b-e044dd217218",
        "colab": {
          "base_uri": "https://localhost:8080/"
        }
      },
      "execution_count": null,
      "outputs": [
        {
          "name": "stdout",
          "output_type": "stream",
          "text": [
            "Enter value that will be searched: 49\n"
          ]
        }
      ]
    },
    {
      "cell_type": "code",
      "source": [
        "data_length = len(mydata)"
      ],
      "metadata": {
        "id": "cWPGdfxWwL6_"
      },
      "execution_count": null,
      "outputs": []
    },
    {
      "cell_type": "code",
      "source": [
        "i = 0\n",
        "while i < data_length:\n",
        "  if key == mydata[i]:\n",
        "     print( \"found at location: \" + str(i))\n",
        "     break\n",
        "  i = i + 1\n",
        "if i == data_length:\n",
        "  print(\" not found\" )"
      ],
      "metadata": {
        "id": "XLgmGvIlyyoZ",
        "outputId": "41af4d19-221a-474a-cddc-9aaac704b553",
        "colab": {
          "base_uri": "https://localhost:8080/"
        }
      },
      "execution_count": null,
      "outputs": [
        {
          "output_type": "stream",
          "name": "stdout",
          "text": [
            "found at location: 8\n"
          ]
        }
      ]
    },
    {
      "cell_type": "code",
      "source": [],
      "metadata": {
        "id": "YHa_bqxqzyMG"
      },
      "execution_count": null,
      "outputs": []
    }
  ],
  "metadata": {
    "colab": {
      "toc_visible": true,
      "provenance": [],
      "include_colab_link": true
    },
    "kernelspec": {
      "display_name": "Python 3",
      "name": "python3"
    }
  },
  "nbformat": 4,
  "nbformat_minor": 0
}