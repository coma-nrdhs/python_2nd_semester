{
  "cells": [
    {
      "cell_type": "markdown",
      "metadata": {
        "id": "view-in-github",
        "colab_type": "text"
      },
      "source": [
        "<a href=\"https://colab.research.google.com/github/coma-nrdhs/python_2nd_semester/blob/main/array.ipynb\" target=\"_parent\"><img src=\"https://colab.research.google.com/assets/colab-badge.svg\" alt=\"Open In Colab\"/></a>"
      ]
    },
    {
      "cell_type": "markdown",
      "source": [
        " **Entering my data to be stored as an Array**"
      ],
      "metadata": {
        "id": "y96TS4ch57Uc"
      }
    },
    {
      "cell_type": "markdown",
      "source": [
        " *Entering the size of array*"
      ],
      "metadata": {
        "id": "D6TM0Xhr6kvG"
      }
    },
    {
      "cell_type": "code",
      "source": [
        "n = int(input(\"Enter number of Data:\"))"
      ],
      "metadata": {
        "id": "e-moM-HW52DZ",
        "colab": {
          "base_uri": "https://localhost:8080/"
        },
        "outputId": "b89266d3-4dcc-4c46-f641-f93d40e53e45"
      },
      "execution_count": 9,
      "outputs": [
        {
          "name": "stdout",
          "output_type": "stream",
          "text": [
            "Enter number of Data:3\n"
          ]
        }
      ]
    },
    {
      "cell_type": "markdown",
      "source": [
        "**numpy**  module used to create array"
      ],
      "metadata": {
        "id": "tbPhCZga7XTf"
      }
    },
    {
      "cell_type": "code",
      "source": [
        "import numpy as np\n",
        "myarray = np.zeros(n)"
      ],
      "metadata": {
        "id": "CgX5lPBwoJPU"
      },
      "execution_count": 11,
      "outputs": []
    },
    {
      "cell_type": "markdown",
      "source": [
        "inserting values into array"
      ],
      "metadata": {
        "id": "65oRpxgl8LI4"
      }
    },
    {
      "cell_type": "code",
      "source": [
        "i = 0\n",
        "while i < n:\n",
        "  myarray[i] = int(input(\"Enter Your Data:\"))\n",
        "  i = i + 1\n"
      ],
      "metadata": {
        "id": "G9Su4MZRr1PX",
        "outputId": "eed95e98-b9f3-40d0-f7f8-5f6c925535ff",
        "colab": {
          "base_uri": "https://localhost:8080/"
        }
      },
      "execution_count": 12,
      "outputs": [
        {
          "name": "stdout",
          "output_type": "stream",
          "text": [
            "Enter Your Data:5\n",
            "Enter Your Data:4\n",
            "Enter Your Data:3\n"
          ]
        }
      ]
    },
    {
      "cell_type": "code",
      "source": [
        "print(myarray)"
      ],
      "metadata": {
        "id": "dZLTCZa4vFNB",
        "outputId": "f38d9e65-1857-4c6b-9b18-9f9a5eae85bb",
        "colab": {
          "base_uri": "https://localhost:8080/"
        }
      },
      "execution_count": 13,
      "outputs": [
        {
          "output_type": "stream",
          "name": "stdout",
          "text": [
            "[5. 4. 3.]\n"
          ]
        }
      ]
    },
    {
      "cell_type": "markdown",
      "source": [
        "**Linear Search**"
      ],
      "metadata": {
        "id": "pyx3bZsXxyLJ"
      }
    },
    {
      "cell_type": "code",
      "source": [
        "key=int(input(\"Enter value to be searched: \"))"
      ],
      "metadata": {
        "id": "iEJtVyR7vRKC",
        "outputId": "b181134e-1de4-426c-b651-268e6a16f011",
        "colab": {
          "base_uri": "https://localhost:8080/"
        }
      },
      "execution_count": 16,
      "outputs": [
        {
          "name": "stdout",
          "output_type": "stream",
          "text": [
            "Enter value that will be searched: 3\n"
          ]
        }
      ]
    },
    {
      "cell_type": "code",
      "source": [
        "myarray_length = len(myarray)"
      ],
      "metadata": {
        "id": "cWPGdfxWwL6_"
      },
      "execution_count": 17,
      "outputs": []
    },
    {
      "cell_type": "markdown",
      "source": [
        "**Algorithm of Linear Search**\n",
        "\n"
      ],
      "metadata": {
        "id": "xBm-aZdXODAt"
      }
    },
    {
      "cell_type": "code",
      "source": [
        "\"\"\"\n",
        "\n",
        "i <-- 0\n",
        "while (i < myarray_length)\n",
        "\n",
        "   if  key = myarray[i]\n",
        "       print (\"found at location\" + i )\n",
        "       break\n",
        "   i <-- i + 1\n",
        "\n",
        "if  (i = myarray_length)\n",
        "\n",
        "     Print(\" not found\")\n",
        "\n",
        "\n",
        "\"\"\""
      ],
      "metadata": {
        "id": "E_vyq-kbR0Or"
      },
      "execution_count": null,
      "outputs": []
    },
    {
      "cell_type": "markdown",
      "source": [
        "**Code of Linear Search**"
      ],
      "metadata": {
        "id": "V5aPvKtgSr_g"
      }
    },
    {
      "cell_type": "code",
      "source": [
        "i = 0\n",
        "while i < myarray_length:\n",
        "  if key == myarray[i]:\n",
        "     print( \"found at location: \" + str(i))\n",
        "     break\n",
        "  i = i + 1\n",
        "if i == myarray_length:\n",
        "  print(\" not found\" )"
      ],
      "metadata": {
        "id": "XLgmGvIlyyoZ",
        "outputId": "d26e3f4b-062a-425e-a1e3-70312601ab5f",
        "colab": {
          "base_uri": "https://localhost:8080/"
        }
      },
      "execution_count": 18,
      "outputs": [
        {
          "output_type": "stream",
          "name": "stdout",
          "text": [
            "found at location: 2\n"
          ]
        }
      ]
    },
    {
      "cell_type": "markdown",
      "source": [
        "**Sorting**\n",
        "\n",
        "Bubble Sort"
      ],
      "metadata": {
        "id": "HLDguQbDXKAY"
      }
    },
    {
      "cell_type": "markdown",
      "source": [
        "**algorithm of bubble sort**"
      ],
      "metadata": {
        "id": "XQ1KcSmvUn84"
      }
    },
    {
      "cell_type": "code",
      "source": [
        "\"\"\"\n",
        "\n",
        "for i <-- 0 to myarray_length - 1\n",
        "  for j <-- 0 to myarray_length-1-i\n",
        "    if myarray[j] > myarray[j+1]\n",
        "      swap myarray[j] and myarray[j+1]\n",
        "\n",
        "\"\"\""
      ],
      "metadata": {
        "id": "mow2kBjKTDcb"
      },
      "execution_count": null,
      "outputs": []
    },
    {
      "cell_type": "markdown",
      "source": [
        "**code of bubble sort**"
      ],
      "metadata": {
        "id": "yycUzNVsUzjp"
      }
    },
    {
      "cell_type": "code",
      "source": [
        "for i in range(myarray_length-1):\n",
        "  for j in range(myarray_length-1-i):\n",
        "    if myarray[j] > myarray[j+1]:\n",
        "      myarray[j], myarray[j+1] = myarray[j+1], myarray[j]"
      ],
      "metadata": {
        "id": "YHa_bqxqzyMG"
      },
      "execution_count": 22,
      "outputs": []
    },
    {
      "cell_type": "code",
      "source": [
        "print(myarray)"
      ],
      "metadata": {
        "colab": {
          "base_uri": "https://localhost:8080/"
        },
        "id": "8TulIQS4LXCC",
        "outputId": "8344bfb1-856b-47e3-cc9f-0b6290cd8dc9"
      },
      "execution_count": 21,
      "outputs": [
        {
          "output_type": "stream",
          "name": "stdout",
          "text": [
            "[3. 4. 5.]\n"
          ]
        }
      ]
    }
  ],
  "metadata": {
    "colab": {
      "toc_visible": true,
      "provenance": [],
      "include_colab_link": true
    },
    "kernelspec": {
      "display_name": "Python 3",
      "name": "python3"
    }
  },
  "nbformat": 4,
  "nbformat_minor": 0
}